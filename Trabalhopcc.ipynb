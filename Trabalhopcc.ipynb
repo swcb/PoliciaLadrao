{
 "cells": [
  {
   "cell_type": "markdown",
   "metadata": {},
   "source": [
    "# Segundo trabalho - Programação Paralela e Concorrente"
   ]
  },
  {
   "cell_type": "markdown",
   "metadata": {},
   "source": [
    "### Membros: \tSilvio Willian Caires Batista, André Vitor Santana Souza"
   ]
  },
  {
   "cell_type": "markdown",
   "metadata": {},
   "source": [
    "## Polícia e Ladrão Online - Remake Visual"
   ]
  },
  {
   "cell_type": "markdown",
   "metadata": {},
   "source": [
    "# Introdução\n",
    "Polícia e Ladrão Online foi um pequeno projeto feito para uma atividade extra nesta matéria. Para este trabalho final, o grupo, juntamente com o professor, decidiu melhorar o jogo, otimizando e melhorando a experiência gráfica.\n"
   ]
  },
  {
   "cell_type": "markdown",
   "metadata": {},
   "source": [
    "# O que foi feito\n",
    "Primeiramente foi estudada a biblioteca “pygames” que permitiu uma melhor experiência visual e fácil controle dos eventos do teclado (movimentação). Feito isso, foi alterada a estrutura do servidor para comportar informações dos jogadores que agora eram dependentes dos objetos gerados por esta biblioteca. Por fim, foram feitos testes com diversas disposições de paralelismo de gpu e cpu, a fim de buscar a melhor configuração para este sistema. Com esses resultados em mão, foram feitos gráficos e cálculos para chegar na versão final do jogo, que atualmente conta apenas com um policial e um ladrão por campo.\n"
   ]
  },
  {
   "cell_type": "markdown",
   "metadata": {},
   "source": [
    "# Como foi feito\n",
    "Para a utilização do “pygames” substituímos o modelo de matrizes pelos objetos do próprio pygames. O ladrão pertence a um grupo chamado “ladroes”, e o policial a um grupo chamado “policiais”, o mesmo para as moedas, obstáculos semi-transponíveis e obstáculos intransponíveis. No lado do servidor, é guardado um array de “rect” - que é a posição - dos jogadores (polícia ou ladrão), uma variável que indica qual foi a última moeda capturada, e algumas variáveis de controle."
   ]
  },
  {
   "cell_type": "code",
   "execution_count": null,
   "metadata": {},
   "outputs": [],
   "source": [
    "def __init__(self):\n",
    "    self.jogadores = []\n",
    "    self.exposed_Killmoeda = \"\"\n",
    "    self.exposed_fim = False\n",
    "    self.jogador = -1\n",
    "    self.ladroes = 0\n",
    "    self.exposed_pos_x = [620/31, (620 / 31) * 29]\n",
    "    self.exposed_pos_y = [261/13, (261 / 13) * 11]\n",
    "    self.exposed_x = [1,29]\n",
    "    self.exposed_y = [1,11]"
   ]
  },
  {
   "cell_type": "markdown",
   "metadata": {},
   "source": [
    "Após o jogador se conectar ao banco, ele solicita seu index neste array, e sua índole. O servidor então retorna seu index e a índole de acordo com o número de jogadores existentes.\n",
    "\n",
    "### Jogador:"
   ]
  },
  {
   "cell_type": "code",
   "execution_count": null,
   "metadata": {},
   "outputs": [],
   "source": [
    "conn = rpyc.connect(\"localhost\", 18861)\n",
    "indole = conn.root.getIndole()\n",
    "if indole == 'ladrao':\n",
    "    jog1 = Objetos.ladrao(pos_x,pos_y)\n",
    "    pygame.key.set_repeat(1, 150)\n",
    "else:\n",
    "    jog1 = Objetos.policia(pos_x,pos_y)\n",
    "    pygame.key.set_repeat(1, 50)\n",
    "print(indole)\n",
    "indice = conn.root.getCredenciais(jog1.rect, indole)\n",
    "print(indice)"
   ]
  },
  {
   "cell_type": "markdown",
   "metadata": {},
   "source": [
    "### Servidor:"
   ]
  },
  {
   "cell_type": "code",
   "execution_count": null,
   "metadata": {},
   "outputs": [],
   "source": [
    "print(len(self.jogadores))\n",
    "if (len(self.jogadores) % 2 == 1):\n",
    "    return \"policia\"\n",
    "else:\n",
    "    self.ladroes += 1\n",
    "return \"ladrao\"\n",
    "                            "
   ]
  },
  {
   "cell_type": "markdown",
   "metadata": {},
   "source": [
    "Depois o jogo entra em loop (while no fim) esperando um evento do teclado (setas) para movimentar o jogador, ao perceber um evento de movimento, o sistema identifica a índole do jogador e verifica se sua movimentação é possível e caso seja, executa ela. Após executar a movimentação local, chama-se uma função que atualiza a posição do jogador no servidor. Faz o mesmo caso o jogador seja um ladrão e tenha passado por uma moeda. No final do loop, atualiza na tela as posições de todos os jogadores, também verifica se algum ladrão foi capturado.\n",
    "\n",
    "### Jogador:"
   ]
  },
  {
   "cell_type": "code",
   "execution_count": null,
   "metadata": {},
   "outputs": [],
   "source": [
    "global fim\n",
    "\n",
    "    while not fim:\n",
    "\n",
    "        inicio = time.time()\n",
    "        for event in pygame.event.get():\n",
    "            pygame.key.get_repeat()\n",
    "            if event.type == pygame.QUIT:\n",
    "                fim = True\n",
    "            if event.type == pygame.KEYDOWN:\n",
    "                if(indole == 'ladrao'):\n",
    "                    if event.key == pygame.K_UP and not (pos_y - 261/13) <= 0 and not blockl(px,py-1,campo):\n",
    "                        jog1.rect = jog1.rect.move(up)\n",
    "                        py = py - 1\n",
    "                        pos_y = pos_y - 261/13\n",
    "                        conn.root.putJogador(indice, jog1.rect)\n",
    "                    if event.key == pygame.K_DOWN and not(pos_y + 261/13 > 261 - (2*261/13)) and not blockl(px,py+1,campo):\n",
    "                        jog1.rect = jog1.rect.move(down)\n",
    "                        py = py + 1\n",
    "                        pos_y = pos_y + 261/13\n",
    "                        conn.root.putJogador(indice, jog1.rect)\n",
    "                    if event.key == pygame.K_RIGHT and not(pos_x  >= 620 - (2*620/31)) and not blockl(px+1,py,campo):\n",
    "                        jog1.rect = jog1.rect.move(dir)\n",
    "                        px = px + 1\n",
    "                        pos_x = pos_x + 620/31\n",
    "                        conn.root.putJogador(indice, jog1.rect)\n",
    "                    if event.key == pygame.K_LEFT and not (pos_x - 620/31 <  620/31) and not blockl(px-1,py,campo):\n",
    "                        jog1.rect = jog1.rect.move(esq)\n",
    "                        px = px - 1\n",
    "                        pos_x = pos_x - 620/31\n",
    "                        conn.root.putJogador(indice, jog1.rect)\n",
    "                else:\n",
    "                    if event.key == pygame.K_UP and not (pos_y - 261/13) <= 0 and not block(px,py-1,campo):\n",
    "                        jog1.rect = jog1.rect.move(up)\n",
    "                        py = py - 1\n",
    "                        pos_y = pos_y - 261/13\n",
    "                        conn.root.putJogador(indice, jog1.rect)\n",
    "                    if event.key == pygame.K_DOWN and not(pos_y + 261/13 > 261 - (2*261/13)) and not block(px,py+1,campo):\n",
    "                        jog1.rect = jog1.rect.move(down)\n",
    "                        py = py + 1\n",
    "                        pos_y = pos_y + 261/13\n",
    "                        conn.root.putJogador(indice, jog1.rect)\n",
    "                    if event.key == pygame.K_RIGHT and not(pos_x  >= 620 - (2*620/31)) and not block(px+1,py,campo):\n",
    "                        jog1.rect = jog1.rect.move(dir)\n",
    "                        px = px + 1\n",
    "                        pos_x = pos_x + 620/31\n",
    "                        conn.root.putJogador(indice, jog1.rect)\n",
    "                    if event.key == pygame.K_LEFT and not (pos_x - 620/31 <  620/31) and not block(px-1,py,campo):\n",
    "                        jog1.rect = jog1.rect.move(esq)\n",
    "                        px = px - 1\n",
    "                        pos_x = pos_x - 620/31\n",
    "                        conn.root.putJogador(indice, jog1.rect)\n",
    "        #Verifica se o jogador passou por uma moeda\n",
    "        #O servidor tem q fazer isso verificando\n",
    "        #se algum ladrao passou por moeda\n",
    "\n",
    "        a = Thread(target=verificaMoedas(moedas, conn))\n",
    "        a.start()\n",
    "\n",
    "        b = Thread(target=verificaKillMoeda(moedas, conn, jog1, indole, cont))\n",
    "        b.start()\n",
    "\n",
    "        c = Thread(target=verificaKillLadrao(conn, indice, indole, derrota))\n",
    "        c.start()\n",
    "\n",
    "        #Desenho da tela\n",
    "        screen.fill(black)\n",
    "        screen.blit(campo2, camporect)\n",
    "        for moeda in moedas:\n",
    "            screen.blit(moeda.image,moeda.rect)\n",
    "        screen.blit(jog1.image, jog1.rect)\n",
    "        jogadores = conn.root.getJogadores()\n",
    "        for jogador in jogadores:\n",
    "            if(jogador['vivo']):\n",
    "                if(jogador['indole'] == 'ladrao'):\n",
    "                    screen.blit(ladrao, jogador['posicao'])\n",
    "                else:\n",
    "                    screen.blit(policia, jogador['posicao'])\n",
    "            else:\n",
    "                print(\"errou\")\n",
    "        pygame.display.flip()\n",
    "        relogio.tick(10)\n",
    "        fim1 = time.time()\n",
    "        print( (fim1 - inicio)*1000)"
   ]
  },
  {
   "cell_type": "code",
   "execution_count": null,
   "metadata": {},
   "outputs": [],
   "source": [
    "#Server:\n",
    "def exposed_putJogador(self, indice, new):\n",
    "   try:\n",
    "       self.jogadores[indice]['posicao'] = new\n",
    "       return True\n",
    "   except:\n",
    "       return False"
   ]
  },
  {
   "cell_type": "markdown",
   "metadata": {},
   "source": [
    "Para fazer os testes de desempenho, foi colocado o time no início e no fim do loop, para saber quanto tempo foi gasto para realizar cada atualização. Com esses dados, foi feito três tabelas para cada configuração, uma mostrando o tempo gasto para a atualização quando não há movimentação, uma para quando há a movimentação e uma para quando há a movimentação e uma moeda é pega.\n",
    "# Testes de desempenho\n",
    "\n",
    "O primeiro teste foi com o programa sequencial. No gráfico a seguir está as medidas de tempo de atualização da tela para o personagem parado (Tempo Estático (ms)) e para o personagem andando (Tempo Movimento (ms)). Não houve diferença no tempo de atualização nos dois cenários.\n"
   ]
  },
  {
   "cell_type": "markdown",
   "metadata": {},
   "source": [
    " <img src=\"images/desempenho1.png\" width=\"640\" height=\"480\" align=\"center\">"
   ]
  },
  {
   "cell_type": "code",
   "execution_count": null,
   "metadata": {},
   "outputs": [],
   "source": []
  }
 ],
 "metadata": {
  "kernelspec": {
   "display_name": "Python 3",
   "language": "python",
   "name": "python3"
  },
  "language_info": {
   "codemirror_mode": {
    "name": "ipython",
    "version": 3
   },
   "file_extension": ".py",
   "mimetype": "text/x-python",
   "name": "python",
   "nbconvert_exporter": "python",
   "pygments_lexer": "ipython3",
   "version": "3.7.0"
  }
 },
 "nbformat": 4,
 "nbformat_minor": 2
}
